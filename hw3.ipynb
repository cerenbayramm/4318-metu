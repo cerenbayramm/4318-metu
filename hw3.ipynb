age = int(input("How old are you? (Use numbers)"))
if age > 19:
    print("adult")
elif 0 <= age <= 19:
    print ("children")
    if 10 <=age <=19:
        print ("adolescent")
    if age < 1:
        print ("infants")

